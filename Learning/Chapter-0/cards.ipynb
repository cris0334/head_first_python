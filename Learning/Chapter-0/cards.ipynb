{
 "cells": [
  {
   "cell_type": "code",
   "execution_count": null,
   "id": "45181686",
   "metadata": {},
   "outputs": [],
   "source": [
    "import random\n",
    "\n",
    "suits = [\"Clubs\", \"Spades\", \"Hearts\", \"Diamonds\"]\n",
    "faces = [\"Ace\", \"King\", \"Queen\", \"Jack\"]\n",
    "numbered = [2,3,4,5,6,7,8,9,10]"
   ]
  },
  {
   "cell_type": "code",
   "execution_count": null,
   "id": "18fda0ca",
   "metadata": {},
   "outputs": [],
   "source": [
    "def create_deck_set():\n",
    "    deck = set()\n",
    "    for suit in suits:\n",
    "        for value in (faces + numbered):\n",
    "            deck.add((value, \"of\", suit))\n",
    "    return deck\n",
    "\n",
    "def create_deck_list():\n",
    "    deck = []\n",
    "    for suit in suits:\n",
    "        for value in (faces + numbered):\n",
    "            deck.append({\"suit\": suit, \"value\": value })\n",
    "    return deck\n",
    "\n",
    "my_deck_list = create_deck_list()\n",
    "my_deck_set = create_deck_set()"
   ]
  },
  {
   "cell_type": "code",
   "execution_count": null,
   "id": "cf92df87",
   "metadata": {},
   "outputs": [],
   "source": [
    "my_deck_list"
   ]
  },
  {
   "cell_type": "code",
   "execution_count": null,
   "id": "31560127",
   "metadata": {},
   "outputs": [],
   "source": [
    "my_deck_set"
   ]
  },
  {
   "cell_type": "code",
   "execution_count": null,
   "id": "71986656",
   "metadata": {},
   "outputs": [],
   "source": [
    "def draw_set():\n",
    "    card = random.choice(list(my_deck_set))\n",
    "    my_deck_set.remove(card)\n",
    "    return card\n",
    "\n",
    "def draw_list():\n",
    "    card = random.choice(my_deck_list)\n",
    "    my_deck_list.remove(card)\n",
    "    return card\n",
    "\n",
    "def draw_list_many(number):\n",
    "    cards = []\n",
    "    for i in range(number):\n",
    "         card = draw_list()\n",
    "         cards.append(card)\n",
    "    return cards\n",
    "\n",
    "def draw_set_many(number):\n",
    "    cards = []\n",
    "    for i in range(number):\n",
    "         card = draw_set()\n",
    "         cards.append(card)\n",
    "    return cards\n",
    "\n",
    "def card_in_deck_list(card):\n",
    "    answer = \"\"\n",
    "    if card in my_deck_list:\n",
    "        answer = \"That card's available\"\n",
    "    else:\n",
    "        answer = \"That card's not available\"\n",
    "    \n",
    "    return answer\n",
    "    \n",
    "def card_in_deck_set(card):\n",
    "    answer = \"\"\n",
    "    if card in my_deck_set:\n",
    "        answer = \"That card's available\"\n",
    "    else:\n",
    "        answer = \"That card's not available\"\n",
    "    \n",
    "    return answer"
   ]
  },
  {
   "cell_type": "code",
   "execution_count": null,
   "id": "5bc857b6",
   "metadata": {},
   "outputs": [],
   "source": [
    "draw_list()"
   ]
  },
  {
   "cell_type": "code",
   "execution_count": null,
   "id": "b56066ae",
   "metadata": {},
   "outputs": [],
   "source": [
    "draw_set()"
   ]
  },
  {
   "cell_type": "code",
   "execution_count": null,
   "id": "007b326f",
   "metadata": {},
   "outputs": [],
   "source": [
    "draw_list_many(7)"
   ]
  },
  {
   "cell_type": "code",
   "execution_count": null,
   "id": "2be5ff49",
   "metadata": {},
   "outputs": [],
   "source": [
    "draw_set_many(7)"
   ]
  },
  {
   "cell_type": "code",
   "execution_count": null,
   "id": "e7cc0067",
   "metadata": {},
   "outputs": [],
   "source": [
    "card_in_deck_list({'suit': 'Diamonds', 'value': 'Jack'})"
   ]
  },
  {
   "cell_type": "code",
   "execution_count": null,
   "id": "c4e213b7",
   "metadata": {},
   "outputs": [],
   "source": [
    "card_in_deck_set((\"King\", 'of', 'Hearts'))"
   ]
  },
  {
   "cell_type": "code",
   "execution_count": null,
   "id": "3241e57c",
   "metadata": {},
   "outputs": [],
   "source": [
    "import this"
   ]
  },
  {
   "cell_type": "code",
   "execution_count": null,
   "id": "f42e1e78",
   "metadata": {},
   "outputs": [],
   "source": [
    "import antigravity"
   ]
  },
  {
   "cell_type": "code",
   "execution_count": null,
   "id": "30d25b60",
   "metadata": {},
   "outputs": [],
   "source": []
  }
 ],
 "metadata": {
  "kernelspec": {
   "display_name": "Python 3",
   "language": "python",
   "name": "python3"
  },
  "language_info": {
   "codemirror_mode": {
    "name": "ipython",
    "version": 3
   },
   "file_extension": ".py",
   "mimetype": "text/x-python",
   "name": "python",
   "nbconvert_exporter": "python",
   "pygments_lexer": "ipython3",
   "version": "3.13.1"
  }
 },
 "nbformat": 4,
 "nbformat_minor": 5
}

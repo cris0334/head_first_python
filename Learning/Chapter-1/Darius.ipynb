{
 "cells": [
  {
   "cell_type": "code",
   "execution_count": 1,
   "id": "7538bed8",
   "metadata": {},
   "outputs": [],
   "source": [
    "fn = \"Darius-13-100m-Fly.txt\""
   ]
  },
  {
   "cell_type": "code",
   "execution_count": 2,
   "id": "cd6e11e3",
   "metadata": {},
   "outputs": [],
   "source": [
    "name, age, distance, stroke = fn.removesuffix(\".txt\").split(\"-\")\n"
   ]
  },
  {
   "cell_type": "code",
   "execution_count": 3,
   "id": "972e4908",
   "metadata": {},
   "outputs": [
    {
     "name": "stdout",
     "output_type": "stream",
     "text": [
      "Darius 13 100m Fly\n"
     ]
    }
   ],
   "source": [
    "print(name, age, distance, stroke)"
   ]
  }
 ],
 "metadata": {
  "kernelspec": {
   "display_name": "Python 3 (ipykernel)",
   "language": "python",
   "name": "python3"
  },
  "language_info": {
   "codemirror_mode": {
    "name": "ipython",
    "version": 3
   },
   "file_extension": ".py",
   "mimetype": "text/x-python",
   "name": "python",
   "nbconvert_exporter": "python",
   "pygments_lexer": "ipython3",
   "version": "3.12.7"
  }
 },
 "nbformat": 4,
 "nbformat_minor": 5
}
